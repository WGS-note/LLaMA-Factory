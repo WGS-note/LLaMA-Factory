{
 "cells": [
  {
   "cell_type": "code",
   "execution_count": 1,
   "metadata": {},
   "outputs": [
    {
     "data": {
      "text/plain": [
       "{'0_loss': 2.1300877928733826,\n",
       " '1_loss': 0.8796517252922058,\n",
       " '2_loss': 1.1477746367454529}"
      ]
     },
     "execution_count": 1,
     "metadata": {},
     "output_type": "execute_result"
    }
   ],
   "source": [
    "original_dict = {\n",
    "    'cumulative_loss': 2.0787570476531982,\n",
    "    'accumulated_steps': 6,\n",
    "    '0_0_loss': 1.172927975654602,\n",
    "    '0_1_loss': 0.5358468890190125,\n",
    "    '0_2_loss': 0.4756641983985901,\n",
    "    '1_0_loss': 0.9571598172187805,\n",
    "    '1_1_loss': 0.34380483627319336,\n",
    "    '1_2_loss': 0.6721104383468628,\n",
    "    '0_0_count': 3,\n",
    "    '0_1_count': 1,\n",
    "    '0_2_count': 2,\n",
    "    '1_0_count': 3,\n",
    "    '1_1_count': 1,\n",
    "    '1_2_count': 2\n",
    "}\n",
    "\n",
    "merged_dict = {}\n",
    "\n",
    "for key, value in original_dict.items():\n",
    "    if key.endswith('_loss') and key != \"cumulative_loss\":\n",
    "        # 提取GPU编号和channel编号\n",
    "        gpu_id, channel_id = key.split('_')[:-1]\n",
    "\n",
    "        new_key = f\"{channel_id}_loss\"\n",
    "\n",
    "        if new_key in merged_dict:\n",
    "            merged_dict[new_key] += value\n",
    "        else:\n",
    "            merged_dict[new_key] = value\n",
    "\n",
    "merged_dict"
   ]
  },
  {
   "cell_type": "code",
   "execution_count": 3,
   "metadata": {},
   "outputs": [
    {
     "data": {
      "text/plain": [
       "2.0787570774555206"
      ]
     },
     "execution_count": 3,
     "metadata": {},
     "output_type": "execute_result"
    }
   ],
   "source": [
    "(2.1300877928733826 + 0.8796517252922058 + 1.1477746367454529) / 2"
   ]
  },
  {
   "cell_type": "code",
   "execution_count": 5,
   "metadata": {},
   "outputs": [
    {
     "data": {
      "text/plain": [
       "2.0787570774555206"
      ]
     },
     "execution_count": 5,
     "metadata": {},
     "output_type": "execute_result"
    }
   ],
   "source": [
    "2.1300877928733826 / 2 + 0.8796517252922058 / 2 + 1.1477746367454529 / 2"
   ]
  },
  {
   "cell_type": "code",
   "execution_count": 6,
   "metadata": {},
   "outputs": [
    {
     "data": {
      "text/plain": [
       "1.952618271112442"
      ]
     },
     "execution_count": 6,
     "metadata": {},
     "output_type": "execute_result"
    }
   ],
   "source": [
    "(1.9365839958190918 + 0.8554319143295288 + 1.1132206320762634) / 2"
   ]
  },
  {
   "cell_type": "code",
   "execution_count": 7,
   "metadata": {},
   "outputs": [
    {
     "data": {
      "text/plain": [
       "1.576"
      ]
     },
     "execution_count": 7,
     "metadata": {},
     "output_type": "execute_result"
    }
   ],
   "source": [
    "0.7164 + 0.36 + 0.4996"
   ]
  },
  {
   "cell_type": "code",
   "execution_count": 8,
   "metadata": {},
   "outputs": [
    {
     "data": {
      "text/plain": [
       "2.2573045939207077"
      ]
     },
     "execution_count": 8,
     "metadata": {},
     "output_type": "execute_result"
    }
   ],
   "source": [
    "1.5975658148527145 +0.6597387790679932"
   ]
  },
  {
   "cell_type": "code",
   "execution_count": 9,
   "metadata": {},
   "outputs": [
    {
     "data": {
      "text/plain": [
       "1.5323"
      ]
     },
     "execution_count": 9,
     "metadata": {},
     "output_type": "execute_result"
    }
   ],
   "source": [
    "0.3053 + 0.5201 + 0.7069"
   ]
  },
  {
   "cell_type": "code",
   "execution_count": 10,
   "metadata": {},
   "outputs": [
    {
     "data": {
      "text/plain": [
       "1.4909041561186314"
      ]
     },
     "execution_count": 10,
     "metadata": {},
     "output_type": "execute_result"
    }
   ],
   "source": [
    "2.9818083122372627 / 2"
   ]
  },
  {
   "cell_type": "code",
   "execution_count": null,
   "metadata": {},
   "outputs": [],
   "source": []
  }
 ],
 "metadata": {
  "kernelspec": {
   "display_name": "llama_factory",
   "language": "python",
   "name": "python3"
  },
  "language_info": {
   "codemirror_mode": {
    "name": "ipython",
    "version": 3
   },
   "file_extension": ".py",
   "mimetype": "text/x-python",
   "name": "python",
   "nbconvert_exporter": "python",
   "pygments_lexer": "ipython3",
   "version": "3.11.9"
  }
 },
 "nbformat": 4,
 "nbformat_minor": 2
}
